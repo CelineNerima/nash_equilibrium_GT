{
  "cells": [
    {
      "cell_type": "markdown",
      "metadata": {
        "id": "view-in-github",
        "colab_type": "text"
      },
      "source": [
        "<a href=\"https://colab.research.google.com/github/CelineNerima/nash_equilibrium_GT/blob/main/nash_equilibrium_GT_improved.ipynb\" target=\"_parent\"><img src=\"https://colab.research.google.com/assets/colab-badge.svg\" alt=\"Open In Colab\"/></a>"
      ]
    },
    {
      "cell_type": "markdown",
      "id": "0cda1042",
      "metadata": {
        "id": "0cda1042"
      },
      "source": [
        "\n",
        "# Evolutionary Game Theory with Q-Learning\n",
        "\n",
        "This notebook explores the integration of Q-learning into an Evolutionary Game Theory (EGT) model, focusing on how strategies evolve over time through learning and natural selection.\n"
      ]
    },
    {
      "cell_type": "code",
      "execution_count": null,
      "id": "496767bf",
      "metadata": {
        "id": "496767bf"
      },
      "outputs": [],
      "source": [
        "\n",
        "import numpy as np\n",
        "from numpy.random import choice\n",
        "\n",
        "# Define parameters\n",
        "alpha = 0.01  # Learning rate for Q-learning\n",
        "gamma = 0.5 # Discount factor for future rewards in Q-learning\n",
        "epsilon = 0.52 # Exploration rate in epsilon-greedy strategy\n",
        "mutation_rate = 0.2  # Mutation rate in evolutionary process\n",
        "rounds = 10  # Number of rounds in each game\n",
        "generations = 15  # Number of generations for evolution\n",
        "population_size = 10  # Size of the population\n",
        "\n",
        "# Define payoffs\n",
        "PAYOFFS = {\n",
        "    ('Cooperate', 'Cooperate'): (3, 3),\n",
        "    ('Cooperate', 'Defect'): (0, 5),\n",
        "    ('Defect', 'Cooperate'): (5, 0),\n",
        "    ('Defect', 'Defect'): (1, 1)\n",
        "}\n"
      ]
    },
    {
      "cell_type": "code",
      "execution_count": null,
      "id": "f96f6298",
      "metadata": {
        "id": "f96f6298"
      },
      "outputs": [],
      "source": [
        "\n",
        "Q_values = {strategy: 0 for strategy in PAYOFFS.keys()}\n",
        "\n",
        "def q_learning_update(strategy, opponent_strategy, reward):\n",
        "    state_action_pair = (strategy, opponent_strategy)\n",
        "    best_next_action = max(Q_values, key=Q_values.get)\n",
        "    Q_values[state_action_pair] = Q_values[state_action_pair] + alpha * (reward + gamma * Q_values[best_next_action] - Q_values[state_action_pair])\n"
      ]
    },
    {
      "cell_type": "code",
      "execution_count": null,
      "id": "f706a651",
      "metadata": {
        "id": "f706a651"
      },
      "outputs": [],
      "source": [
        "\n",
        "def play_game(player1_strategy, player2_strategy):\n",
        "    if (player1_strategy, player2_strategy) not in PAYOFFS:\n",
        "        raise ValueError(\"Invalid strategy. Choose from 'Cooperate' or 'Defect'.\")\n",
        "    return PAYOFFS[(player1_strategy, player2_strategy)]\n"
      ]
    },
    {
      "cell_type": "code",
      "execution_count": null,
      "id": "5b27a180",
      "metadata": {
        "id": "5b27a180"
      },
      "outputs": [],
      "source": [
        "\n",
        "def evolve_population(population, rounds, mutation_rate=0.1):\n",
        "    strategies = list(set([s for sublist in PAYOFFS.keys() for s in sublist]))\n",
        "    new_population = []\n",
        "\n",
        "    for individual in population:\n",
        "        # Choose strategy using epsilon-greedy policy\n",
        "        if np.random.rand() < epsilon:\n",
        "            strategy = np.random.choice(strategies)\n",
        "        else:\n",
        "            strategy = max(Q_values, key=Q_values.get)[0]  # Choose best strategy based on Q-values\n",
        "\n",
        "        # Evaluate fitness\n",
        "        fitness = {strategy: 0 for strategy in strategies}\n",
        "        for opponent_strategy in strategies:\n",
        "            payoff = play_game(strategy, opponent_strategy)\n",
        "            fitness[strategy] += payoff[0]\n",
        "\n",
        "        # Select the best strategy based on fitness\n",
        "        best_strategy = max(fitness, key=fitness.get)\n",
        "\n",
        "        # Mutation: with some probability, change the strategy\n",
        "        if np.random.rand() < mutation_rate:\n",
        "            best_strategy = np.random.choice(strategies)\n",
        "\n",
        "        # Update Q-values based on the chosen strategy\n",
        "        reward = fitness[best_strategy] / len(strategies)\n",
        "        q_learning_update(strategy, best_strategy, reward)\n",
        "\n",
        "        new_population.append(best_strategy)\n",
        "\n",
        "    return new_population\n"
      ]
    },
    {
      "cell_type": "code",
      "execution_count": null,
      "id": "bbbd763c",
      "metadata": {
        "colab": {
          "base_uri": "https://localhost:8080/"
        },
        "id": "bbbd763c",
        "outputId": "2a9b1acf-90c1-4b4a-9482-e3677a9795f3"
      },
      "outputs": [
        {
          "output_type": "stream",
          "name": "stdout",
          "text": [
            "Initial population: ['Defect', 'Cooperate', 'Defect', 'Cooperate', 'Cooperate', 'Defect', 'Defect', 'Cooperate', 'Defect', 'Cooperate']\n",
            "Generation 1: ['Cooperate', 'Cooperate', 'Cooperate', 'Cooperate', 'Cooperate', 'Defect', 'Defect', 'Cooperate', 'Cooperate', 'Cooperate']\n",
            "Generation 2: ['Cooperate', 'Cooperate', 'Cooperate', 'Cooperate', 'Cooperate', 'Defect', 'Cooperate', 'Cooperate', 'Defect', 'Defect']\n",
            "Generation 3: ['Defect', 'Cooperate', 'Defect', 'Cooperate', 'Cooperate', 'Defect', 'Defect', 'Cooperate', 'Cooperate', 'Defect']\n",
            "Generation 4: ['Cooperate', 'Cooperate', 'Cooperate', 'Cooperate', 'Cooperate', 'Defect', 'Defect', 'Cooperate', 'Cooperate', 'Cooperate']\n",
            "Generation 5: ['Defect', 'Cooperate', 'Cooperate', 'Cooperate', 'Defect', 'Cooperate', 'Cooperate', 'Cooperate', 'Defect', 'Defect']\n",
            "Generation 6: ['Cooperate', 'Cooperate', 'Defect', 'Defect', 'Cooperate', 'Cooperate', 'Cooperate', 'Cooperate', 'Cooperate', 'Cooperate']\n",
            "Generation 7: ['Cooperate', 'Defect', 'Cooperate', 'Cooperate', 'Cooperate', 'Cooperate', 'Cooperate', 'Cooperate', 'Defect', 'Cooperate']\n",
            "Generation 8: ['Cooperate', 'Cooperate', 'Cooperate', 'Defect', 'Cooperate', 'Cooperate', 'Cooperate', 'Cooperate', 'Cooperate', 'Defect']\n",
            "Generation 9: ['Cooperate', 'Cooperate', 'Cooperate', 'Defect', 'Defect', 'Defect', 'Cooperate', 'Defect', 'Cooperate', 'Cooperate']\n",
            "Generation 10: ['Cooperate', 'Defect', 'Cooperate', 'Defect', 'Cooperate', 'Defect', 'Defect', 'Cooperate', 'Defect', 'Defect']\n",
            "Generation 11: ['Cooperate', 'Cooperate', 'Defect', 'Defect', 'Cooperate', 'Cooperate', 'Cooperate', 'Cooperate', 'Defect', 'Cooperate']\n",
            "Generation 12: ['Defect', 'Defect', 'Cooperate', 'Cooperate', 'Cooperate', 'Cooperate', 'Cooperate', 'Cooperate', 'Cooperate', 'Cooperate']\n",
            "Generation 13: ['Defect', 'Defect', 'Cooperate', 'Defect', 'Cooperate', 'Cooperate', 'Defect', 'Cooperate', 'Cooperate', 'Defect']\n",
            "Generation 14: ['Cooperate', 'Defect', 'Cooperate', 'Cooperate', 'Cooperate', 'Cooperate', 'Defect', 'Defect', 'Cooperate', 'Defect']\n",
            "Generation 15: ['Cooperate', 'Defect', 'Cooperate', 'Cooperate', 'Cooperate', 'Cooperate', 'Defect', 'Defect', 'Cooperate', 'Cooperate']\n"
          ]
        }
      ],
      "source": [
        "\n",
        "# Initialize population with random strategies\n",
        "strategies = list(set([s for sublist in PAYOFFS.keys() for s in sublist]))\n",
        "population = [np.random.choice(strategies) for _ in range(population_size)]\n",
        "\n",
        "# Simulate evolution\n",
        "print(\"Initial population:\", population)\n",
        "for generation in range(generations):\n",
        "    population = evolve_population(population, rounds)\n",
        "    print(f\"Generation {generation + 1}: {population}\")\n"
      ]
    },
    {
      "cell_type": "code",
      "execution_count": null,
      "id": "1c567e8b",
      "metadata": {
        "colab": {
          "base_uri": "https://localhost:8080/",
          "height": 472
        },
        "id": "1c567e8b",
        "outputId": "a441f1b1-acc0-4a75-b407-c53e597252f6"
      },
      "outputs": [
        {
          "output_type": "display_data",
          "data": {
            "text/plain": [
              "<Figure size 640x480 with 1 Axes>"
            ],
            "image/png": "[encoded data removed]"
          },
          "metadata": {}
        }
      ],
      "source": [
        "\n",
        "import matplotlib.pyplot as plt\n",
        "\n",
        "# Example visualization of strategy distribution over generations (placeholder code)\n",
        "# You would collect the data during simulation and then plot it.\n",
        "\n",
        "# Sample data for plotting\n",
        "generations_data = list(range(1, generations + 1))\n",
        "cooperate_counts = [population.count('Cooperate') for _ in generations_data]  # Replace with actual data\n",
        "defect_counts = [population.count('Defect') for _ in generations_data]  # Replace with actual data\n",
        "\n",
        "plt.plot(generations_data, cooperate_counts, label='Cooperate')\n",
        "plt.plot(generations_data, defect_counts, label='Defect')\n",
        "plt.xlabel('Generations')\n",
        "plt.ylabel('Strategy Count')\n",
        "plt.title('Strategy Evolution Over Generations')\n",
        "plt.legend()\n",
        "plt.show()\n"
      ]
    }
  ],
  "metadata": {
    "colab": {
      "provenance": [],
      "include_colab_link": true
    },
    "language_info": {
      "name": "python"
    },
    "kernelspec": {
      "name": "python3",
      "display_name": "Python 3"
    }
  },
  "nbformat": 4,
  "nbformat_minor": 5
}